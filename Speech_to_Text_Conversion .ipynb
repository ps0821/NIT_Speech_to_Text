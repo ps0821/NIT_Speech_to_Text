{
 "cells": [
  {
   "cell_type": "code",
   "execution_count": 1,
   "id": "6efcea8b-7f5b-4792-8535-4ec8de9220da",
   "metadata": {},
   "outputs": [
    {
     "name": "stdout",
     "output_type": "stream",
     "text": [
      "Collecting SpeechRecognition\n",
      "  Using cached SpeechRecognition-3.10.4-py2.py3-none-any.whl.metadata (28 kB)\n",
      "Collecting pydub\n",
      "  Using cached pydub-0.25.1-py2.py3-none-any.whl.metadata (1.4 kB)\n",
      "Collecting requests>=2.26.0 (from SpeechRecognition)\n",
      "  Downloading requests-2.32.3-py3-none-any.whl.metadata (4.6 kB)\n",
      "Collecting typing-extensions (from SpeechRecognition)\n",
      "  Downloading typing_extensions-4.12.2-py3-none-any.whl.metadata (3.0 kB)\n",
      "Collecting charset-normalizer<4,>=2 (from requests>=2.26.0->SpeechRecognition)\n",
      "  Downloading charset_normalizer-3.3.2-cp312-cp312-win_amd64.whl.metadata (34 kB)\n",
      "Collecting idna<4,>=2.5 (from requests>=2.26.0->SpeechRecognition)\n",
      "  Downloading idna-3.8-py3-none-any.whl.metadata (9.9 kB)\n",
      "Collecting urllib3<3,>=1.21.1 (from requests>=2.26.0->SpeechRecognition)\n",
      "  Downloading urllib3-2.2.2-py3-none-any.whl.metadata (6.4 kB)\n",
      "Collecting certifi>=2017.4.17 (from requests>=2.26.0->SpeechRecognition)\n",
      "  Downloading certifi-2024.8.30-py3-none-any.whl.metadata (2.2 kB)\n",
      "Using cached SpeechRecognition-3.10.4-py2.py3-none-any.whl (32.8 MB)\n",
      "Using cached pydub-0.25.1-py2.py3-none-any.whl (32 kB)\n",
      "Downloading requests-2.32.3-py3-none-any.whl (64 kB)\n",
      "   ---------------------------------------- 0.0/64.9 kB ? eta -:--:--\n",
      "   ---------------------------------------- 64.9/64.9 kB 3.6 MB/s eta 0:00:00\n",
      "Downloading typing_extensions-4.12.2-py3-none-any.whl (37 kB)\n",
      "Downloading certifi-2024.8.30-py3-none-any.whl (167 kB)\n",
      "   ---------------------------------------- 0.0/167.3 kB ? eta -:--:--\n",
      "   ----------------------------- ---------- 122.9/167.3 kB 7.0 MB/s eta 0:00:01\n",
      "   ----------------------------- ---------- 122.9/167.3 kB 7.0 MB/s eta 0:00:01\n",
      "   ---------------------------------------- 167.3/167.3 kB 1.3 MB/s eta 0:00:00\n",
      "Downloading charset_normalizer-3.3.2-cp312-cp312-win_amd64.whl (100 kB)\n",
      "   ---------------------------------------- 0.0/100.4 kB ? eta -:--:--\n",
      "   ---------------------------------------- 100.4/100.4 kB 2.9 MB/s eta 0:00:00\n",
      "Downloading idna-3.8-py3-none-any.whl (66 kB)\n",
      "   ---------------------------------------- 0.0/66.9 kB ? eta -:--:--\n",
      "   ---------------------------------------- 66.9/66.9 kB 1.8 MB/s eta 0:00:00\n",
      "Downloading urllib3-2.2.2-py3-none-any.whl (121 kB)\n",
      "   ---------------------------------------- 0.0/121.4 kB ? eta -:--:--\n",
      "   ---------------------------------------- 121.4/121.4 kB 3.6 MB/s eta 0:00:00\n",
      "Installing collected packages: pydub, urllib3, typing-extensions, idna, charset-normalizer, certifi, requests, SpeechRecognition\n",
      "Successfully installed SpeechRecognition-3.10.4 certifi-2024.8.30 charset-normalizer-3.3.2 idna-3.8 pydub-0.25.1 requests-2.32.3 typing-extensions-4.12.2 urllib3-2.2.2\n",
      "Note: you may need to restart the kernel to use updated packages.\n"
     ]
    },
    {
     "name": "stderr",
     "output_type": "stream",
     "text": [
      "  WARNING: The script normalizer.exe is installed in 'c:\\Users\\varun\\AppData\\Local\\Programs\\Python\\Python312\\Scripts' which is not on PATH.\n",
      "  Consider adding this directory to PATH or, if you prefer to suppress this warning, use --no-warn-script-location.\n",
      "\n",
      "[notice] A new release of pip is available: 24.0 -> 24.2\n",
      "[notice] To update, run: python.exe -m pip install --upgrade pip\n"
     ]
    }
   ],
   "source": [
    "pip install SpeechRecognition pydub"
   ]
  },
  {
   "cell_type": "code",
   "execution_count": 2,
   "id": "caa82879-3a2e-43a1-89e5-ccefbb749143",
   "metadata": {},
   "outputs": [
    {
     "name": "stderr",
     "output_type": "stream",
     "text": [
      "c:\\Users\\varun\\AppData\\Local\\Programs\\Python\\Python312\\Lib\\site-packages\\pydub\\utils.py:170: RuntimeWarning: Couldn't find ffmpeg or avconv - defaulting to ffmpeg, but may not work\n",
      "  warn(\"Couldn't find ffmpeg or avconv - defaulting to ffmpeg, but may not work\", RuntimeWarning)\n"
     ]
    }
   ],
   "source": [
    "import speech_recognition as sr\n",
    "from pydub import AudioSegment\n",
    "from pydub.utils import make_chunks"
   ]
  },
  {
   "cell_type": "code",
   "execution_count": 4,
   "id": "c18caba5-6eab-4256-a524-29023a83a9a4",
   "metadata": {},
   "outputs": [],
   "source": [
    "def preprocess_audio(file_path):\n",
    "    audio = AudioSegment.from_file(file_path)\n",
    "    audio = audio.set_frame_rate(16000)\n",
    "    audio = audio.set_channels(1)\n",
    "    return audio\n",
    "\n",
    "# Example usage\n",
    "audio = preprocess_audio(\"C:\\\\Users\\\\varun\\\\Desktop\\\\NIT TRICHY AUDIO\\\\NIIT Audio.wav\")\n"
   ]
  },
  {
   "cell_type": "code",
   "execution_count": 5,
   "id": "232ad1e9-579f-48c2-b672-63781de0b5b9",
   "metadata": {},
   "outputs": [
    {
     "name": "stdout",
     "output_type": "stream",
     "text": [
      "here I am in a quiet hours of the night the only sounds are the taking of the old clock and the Whisper of the wind it's moments like these that I find myself travelling back through the corridors of time you know this old house with its cracking flowers and sign walls has witnessed generations of Laughter tears and dreams as I sit here surrounded by both the fireplace my mother used to connect the moment in time it's beautiful how the University of life account\n"
     ]
    }
   ],
   "source": [
    "def speech_to_text(audio_chunk):\n",
    "    recognizer = sr.Recognizer()\n",
    "    with sr.AudioFile(audio_chunk) as source:\n",
    "        audio = recognizer.record(source)\n",
    "        try:\n",
    "            text = recognizer.recognize_google(audio)\n",
    "            return text\n",
    "        except sr.UnknownValueError:\n",
    "            return \"Could not understand audio\"\n",
    "        except sr.RequestError:\n",
    "            return \"Could not request results; check your network connection\"\n",
    "\n",
    "# Example usage\n",
    "audio.export(\"chunk.wav\", format=\"wav\")\n",
    "text = speech_to_text(\"chunk.wav\")\n",
    "print(text)\n"
   ]
  },
  {
   "cell_type": "code",
   "execution_count": 9,
   "id": "c6953cbd-2053-4ded-bcda-35d52083345c",
   "metadata": {},
   "outputs": [
    {
     "name": "stdout",
     "output_type": "stream",
     "text": [
      "here I am in a quiet hours of the night the only sounds are the taking of the old clock and the Whisper of the wind it's moments like these that I find myself travelling with coronavirus of time you know this old house with its flowers and shining walls has witnessed generations of Laughter tears and dreams as I sit here Skybags that smell of mast and memories I can almost hear the actors of the past each page I turned reverberates with stories told and like this one about my grandfather Who sells his Adventures as fast as the ocean sea travelled and there please my mother used to net quietly crafting not just sweaters but the fabric of our families Legacy and now it's but it's not loneliness that a company's me it's a profound companionship of every so there is a coldest place on outside the stars are bright each one of a reminder of a moment in time it's beautiful have the univer everything like the universe I take my time tonight savouring The Silence letting the stories of old film and as I share this with you it's my hope that these stories echo in your heart is they do in mine timeless and enduring after all the temperature of life not the minutes we can't but the moment the count here I am in the quiet hours of the night the only sounds are the taking clock in the Whisper of the wind its moments like this but I find myself travelling back through the corridors of time you know this old house with its cracking floors and sign walls \n"
     ]
    }
   ],
   "source": [
    "def process_long_audio(file_path, chunk_length_ms=10000):\n",
    "    audio = preprocess_audio(file_path)\n",
    "    chunks = make_chunks(audio, chunk_length_ms)\n",
    "    full_text = \"\"\n",
    "    for i, chunk in enumerate(chunks):\n",
    "        chunk_name = f\"chunk{i}.wav\"\n",
    "        chunk.export(chunk_name, format=\"wav\")\n",
    "        text = speech_to_text(chunk_name)\n",
    "        full_text += text + \" \"\n",
    "    return full_text\n",
    "\n",
    "# Example usage\n",
    "full_text = process_long_audio(\"C:\\\\Users\\\\varun\\\\Desktop\\\\NIT TRICHY AUDIO\\\\NIIT Audio.wav\")\n",
    "print(full_text)\n"
   ]
  },
  {
   "cell_type": "code",
   "execution_count": 10,
   "id": "60bf6d38-d4e9-4fd8-ae72-094518ef49e4",
   "metadata": {},
   "outputs": [],
   "source": [
    "from tkinter import *\n",
    "from tkinter import filedialog\n",
    "\n",
    "def browse_file():\n",
    "    filename = filedialog.askopenfilename(filetypes=((\"Audio files\", \"*.wav\"), (\"All files\", \"*.*\")))\n",
    "    entry.delete(0, END)\n",
    "    entry.insert(0, filename)\n",
    "\n",
    "def convert_and_display():\n",
    "    file_path = entry.get()\n",
    "    if file_path:\n",
    "        text = process_long_audio(file_path)\n",
    "        text_display.delete(1.0, END)\n",
    "        text_display.insert(END, text)\n",
    "\n",
    "root = Tk()\n",
    "root.title(\"Speech-to-Text Converter\")\n",
    "\n",
    "label = Label(root, text=\"Select Audio File:\")\n",
    "label.pack()\n",
    "\n",
    "entry = Entry(root, width=50)\n",
    "entry.pack()\n",
    "\n",
    "browse_button = Button(root, text=\"Browse\", command=browse_file)\n",
    "browse_button.pack()\n",
    "\n",
    "convert_button = Button(root, text=\"Convert and Display Text\", command=convert_and_display)\n",
    "convert_button.pack()\n",
    "\n",
    "text_display = Text(root, wrap='word', height=20, width=50)\n",
    "text_display.pack()\n",
    "\n",
    "root.mainloop()\n"
   ]
  },
  {
   "cell_type": "code",
   "execution_count": null,
   "id": "37417598-d435-4d77-8307-63f743643a87",
   "metadata": {},
   "outputs": [],
   "source": []
  }
 ],
 "metadata": {
  "kernelspec": {
   "display_name": "Python 3 (ipykernel)",
   "language": "python",
   "name": "python3"
  },
  "language_info": {
   "codemirror_mode": {
    "name": "ipython",
    "version": 3
   },
   "file_extension": ".py",
   "mimetype": "text/x-python",
   "name": "python",
   "nbconvert_exporter": "python",
   "pygments_lexer": "ipython3",
   "version": "3.12.2"
  }
 },
 "nbformat": 4,
 "nbformat_minor": 5
}
